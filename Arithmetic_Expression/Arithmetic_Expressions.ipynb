{
 "cells": [
  {
   "cell_type": "code",
   "execution_count": 8,
   "id": "bbbccae4",
   "metadata": {},
   "outputs": [],
   "source": [
    "import re"
   ]
  },
  {
   "cell_type": "code",
   "execution_count": 26,
   "id": "05f6f9f2",
   "metadata": {},
   "outputs": [
    {
     "name": "stdout",
     "output_type": "stream",
     "text": [
      "Results written to output.txt\n"
     ]
    }
   ],
   "source": [
    "def evaluate_expression(expression):\n",
    "    try:\n",
    "        result = eval(expression.replace(\"^\", \"**\"))\n",
    "        return result\n",
    "    except Exception as e:\n",
    "        return f\"Error: {str(e)}\"\n",
    "\n",
    "# Read expressions \n",
    "input_file_path = 'input.txt'\n",
    "\n",
    "with open(input_file_path, 'r') as input_file:\n",
    "    expressions = input_file.readlines()\n",
    "\n",
    "# Evaluate expressions \n",
    "output_file_path = 'output.txt'\n",
    "\n",
    "with open(output_file_path, 'w') as output_file:\n",
    "    for i, expression in enumerate(expressions, start=1):\n",
    "        result = evaluate_expression(expression)\n",
    "        output_file.write(f\" {expression.strip()} = {result}\\n\")\n",
    "\n",
    "print(f\"Results written to {output_file_path}\")\n"
   ]
  },
  {
   "cell_type": "code",
   "execution_count": null,
   "id": "8faace49",
   "metadata": {},
   "outputs": [],
   "source": []
  }
 ],
 "metadata": {
  "kernelspec": {
   "display_name": "Python 3 (ipykernel)",
   "language": "python",
   "name": "python3"
  },
  "language_info": {
   "codemirror_mode": {
    "name": "ipython",
    "version": 3
   },
   "file_extension": ".py",
   "mimetype": "text/x-python",
   "name": "python",
   "nbconvert_exporter": "python",
   "pygments_lexer": "ipython3",
   "version": "3.11.3"
  }
 },
 "nbformat": 4,
 "nbformat_minor": 5
}
