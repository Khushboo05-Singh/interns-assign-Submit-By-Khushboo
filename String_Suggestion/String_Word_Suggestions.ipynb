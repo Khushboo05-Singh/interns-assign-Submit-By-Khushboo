{
 "cells": [
  {
   "cell_type": "code",
   "execution_count": 3,
   "id": "cce40b54",
   "metadata": {},
   "outputs": [],
   "source": [
    "import Levenshtein"
   ]
  },
  {
   "cell_type": "code",
   "execution_count": 6,
   "id": "f3f8a27c",
   "metadata": {},
   "outputs": [
    {
     "name": "stdout",
     "output_type": "stream",
     "text": [
      "Input : actv\n",
      "Output : active, activist, activity\n",
      "Input : abslutly\n",
      "Output : absoulutely, activity, active\n",
      "Input : \n",
      "Please Try To Enter The Word\n"
     ]
    }
   ],
   "source": [
    "Txt_File = \"C:/Users/khush/Documents/Python_Programs/fuzzywuzzy.txt\"  \n",
    "\n",
    "with open(Txt_File, 'r') as file:\n",
    "    words = file.read().splitlines()\n",
    "\n",
    "while True:\n",
    "    user_input = input(\"Input : \")\n",
    "    if  not user_input:\n",
    "        print(\"Please Try To Enter The Word\")\n",
    "        break\n",
    "\n",
    "    distances = [(word, Levenshtein.distance(user_input, word)) for word in words]\n",
    "    sorted_distances = sorted(distances, key=lambda x: x[1])\n",
    "    k = min(3, len(words))  # Top 2 suggestions or less if there are fewer words\n",
    "    suggestions = [word for word, _ in sorted_distances[:k]]\n",
    "    print(\"Output :\", \", \".join(suggestions))"
   ]
  },
  {
   "cell_type": "code",
   "execution_count": 7,
   "id": "65b0aaf0",
   "metadata": {},
   "outputs": [
    {
     "name": "stdout",
     "output_type": "stream",
     "text": [
      "Input : abslutly\n",
      "Output : absoulutely\n",
      "Input : \n",
      "Please Try To Enter The Word\n"
     ]
    }
   ],
   "source": [
    "Txt_File = \"C:/Users/khush/Documents/Python_Programs/fuzzywuzzy.txt\"  \n",
    "\n",
    "with open(Txt_File, 'r') as file:\n",
    "    words = file.read().splitlines()\n",
    "\n",
    "while True:\n",
    "    user_input = input(\"Input : \")\n",
    "    if  not user_input:\n",
    "        print(\"Please Try To Enter The Word\")\n",
    "        break\n",
    "\n",
    "    distances = [(word, Levenshtein.distance(user_input, word)) for word in words]\n",
    "    sorted_distances = sorted(distances, key=lambda x: x[1])\n",
    "    k = min(1, len(words))  # Top 2 suggestions or less if there are fewer words\n",
    "    suggestions = [word for word, _ in sorted_distances[:k]]\n",
    "    print(\"Output :\", \", \".join(suggestions))"
   ]
  },
  {
   "cell_type": "code",
   "execution_count": null,
   "id": "9b1d18c7",
   "metadata": {},
   "outputs": [],
   "source": []
  }
 ],
 "metadata": {
  "kernelspec": {
   "display_name": "Python 3 (ipykernel)",
   "language": "python",
   "name": "python3"
  },
  "language_info": {
   "codemirror_mode": {
    "name": "ipython",
    "version": 3
   },
   "file_extension": ".py",
   "mimetype": "text/x-python",
   "name": "python",
   "nbconvert_exporter": "python",
   "pygments_lexer": "ipython3",
   "version": "3.11.3"
  }
 },
 "nbformat": 4,
 "nbformat_minor": 5
}
