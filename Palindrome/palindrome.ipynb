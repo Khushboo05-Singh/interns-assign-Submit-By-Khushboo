{
 "cells": [
  {
   "cell_type": "code",
   "execution_count": 3,
   "id": "a8dd4c69",
   "metadata": {},
   "outputs": [
    {
     "name": "stdout",
     "output_type": "stream",
     "text": [
      "Enter a string  : racecar\n",
      "The string ‘racecar’ is a palindrome.\n"
     ]
    }
   ],
   "source": [
    "def isPalindrome(s):\n",
    "    return s == s[::-1]\n",
    "\n",
    "#s = \"malayalam\"\n",
    "s=(input(\"Enter a string  : \"))\n",
    "ans = isPalindrome(s)\n",
    " \n",
    "if ans:\n",
    "    print(f\"The string ‘{s}’ is a palindrome.\")\n",
    "else:\n",
    "    print(f\"The string ‘{s}’is not a palindrome\")"
   ]
  },
  {
   "cell_type": "code",
   "execution_count": null,
   "id": "2548ff11",
   "metadata": {},
   "outputs": [],
   "source": []
  }
 ],
 "metadata": {
  "kernelspec": {
   "display_name": "Python 3 (ipykernel)",
   "language": "python",
   "name": "python3"
  },
  "language_info": {
   "codemirror_mode": {
    "name": "ipython",
    "version": 3
   },
   "file_extension": ".py",
   "mimetype": "text/x-python",
   "name": "python",
   "nbconvert_exporter": "python",
   "pygments_lexer": "ipython3",
   "version": "3.11.3"
  }
 },
 "nbformat": 4,
 "nbformat_minor": 5
}
